{
 "cells": [
  {
   "cell_type": "code",
   "execution_count": 1,
   "metadata": {},
   "outputs": [],
   "source": [
    "def printhellofunction():\n",
    "    \"\"\"\n",
    "    This function is used to print \"hello world\"\n",
    "    \"\"\"\n",
    "    print('Hello World')"
   ]
  },
  {
   "cell_type": "code",
   "execution_count": 3,
   "metadata": {},
   "outputs": [
    {
     "name": "stdout",
     "output_type": "stream",
     "text": [
      "Hello World\n"
     ]
    }
   ],
   "source": [
    "printhellofunction()"
   ]
  },
  {
   "cell_type": "code",
   "execution_count": 6,
   "metadata": {},
   "outputs": [
    {
     "name": "stdout",
     "output_type": "stream",
     "text": [
      "Enter your Name: Maansia\n",
      "Hello Maansia\n"
     ]
    }
   ],
   "source": [
    "def printname(arg):\n",
    "    \"\"\"\n",
    "    This function is used to print name taken as input\n",
    "    \"\"\"\n",
    "    print(arg)\n",
    "\n",
    "name = input('Enter your Name: ' )\n",
    "printname('Hello ' + name)"
   ]
  },
  {
   "cell_type": "code",
   "execution_count": null,
   "metadata": {},
   "outputs": [],
   "source": [
    "contype = input('What is the target conversion type: ')\n",
    "num = input('Enter the value to be converted to : ')\n",
    "if contype == 'farenheit':\n",
    "    result = int((num*9/5)+32)\n",
    "    print(f'is converted to {result} farenheit')\n",
    "\n"
   ]
  },
  {
   "cell_type": "code",
   "execution_count": null,
   "metadata": {},
   "outputs": [],
   "source": [
    "num"
   ]
  },
  {
   "cell_type": "code",
   "execution_count": null,
   "metadata": {},
   "outputs": [],
   "source": [
    "if 'farenheit' == 'farenheit':\n",
    "    print('hi')"
   ]
  },
  {
   "cell_type": "code",
   "execution_count": 65,
   "metadata": {},
   "outputs": [
    {
     "name": "stdout",
     "output_type": "stream",
     "text": [
      "What is the target conversion type: (Type Farenheit or Celcius)f\n",
      "Enter the value to be converted to : 21\n",
      "21 Celcius is converted to 69.8 F\n"
     ]
    }
   ],
   "source": [
    "contype = input('What is the target conversion type: (Type Farenheit or Celcius)')\n",
    "temperature = input('Enter the value to be converted to : ')\n",
    "\n",
    "if contype.lower() == 'farenheit' or contype.lower() == 'f':\n",
    "    result = int(temperature)*9/5+32\n",
    "    print(f'{temperature} Celcius is converted to {result} {contype.upper()}')\n",
    "\n",
    "if contype.lower() == 'celcius' or contype.lower() == 'c':\n",
    "    result = (int(temperature)-32)*5/9\n",
    "    print(f'{temperature} Farenheit is converted to {result} {contype.upper}') "
   ]
  },
  {
   "cell_type": "code",
   "execution_count": 54,
   "metadata": {},
   "outputs": [
    {
     "name": "stdout",
     "output_type": "stream",
     "text": [
      "Enter the name: Alia\n",
      "liaAXZ\n"
     ]
    }
   ],
   "source": [
    "name = input('Enter the name: ')\n",
    "if name[0].lower() == 'a' or name[0].lower() == 'e' or name[0].lower() == 'i' or name[0].lower() == 'o' or name[0].lower() == 'u':\n",
    "    print(name[1:]+name[0]+'XZ')\n",
    "else:\n",
    "    print(name+'XZ')"
   ]
  },
  {
   "cell_type": "code",
   "execution_count": 20,
   "metadata": {},
   "outputs": [
    {
     "name": "stdout",
     "output_type": "stream",
     "text": [
      "36\n"
     ]
    }
   ],
   "source": [
    "import random\n",
    "x = range(10)\n",
    "print(random.randint(1,100))"
   ]
  },
  {
   "cell_type": "code",
   "execution_count": 21,
   "metadata": {},
   "outputs": [
    {
     "name": "stdout",
     "output_type": "stream",
     "text": [
      "15\n",
      "75\n",
      "71\n",
      "90\n",
      "27\n",
      "99\n",
      "15\n",
      "47\n",
      "23\n",
      "48\n"
     ]
    }
   ],
   "source": [
    "import random\n",
    "for x in range(10):\n",
    "    print(random.randint(1,100))"
   ]
  },
  {
   "cell_type": "code",
   "execution_count": 22,
   "metadata": {},
   "outputs": [],
   "source": [
    "def rannum(arg):\n",
    "    \"\"\"\n",
    "    This function is used to print random numbers\n",
    "    \"\"\"\n",
    "    import random\n",
    "    for x in range(arg):\n",
    "        print(random.randint(1,100))"
   ]
  },
  {
   "cell_type": "code",
   "execution_count": 23,
   "metadata": {},
   "outputs": [
    {
     "name": "stdout",
     "output_type": "stream",
     "text": [
      "47\n",
      "98\n",
      "55\n",
      "11\n",
      "21\n",
      "75\n",
      "43\n",
      "18\n",
      "27\n",
      "44\n",
      "71\n"
     ]
    }
   ],
   "source": [
    "rannum(11)"
   ]
  },
  {
   "cell_type": "code",
   "execution_count": 52,
   "metadata": {},
   "outputs": [
    {
     "name": "stdout",
     "output_type": "stream",
     "text": [
      "Enter the number: 89\n",
      "89 is a prime number\n"
     ]
    }
   ],
   "source": [
    "num = int(input ('Enter the number: '))\n",
    "for i in range(2,num):\n",
    "    if num%i == 0:\n",
    "        print(f'{num} is a not prime number')\n",
    "        break\n",
    "else:\n",
    "    print(f'{num} is a prime number')\n",
    "  \n"
   ]
  },
  {
   "cell_type": "code",
   "execution_count": null,
   "metadata": {},
   "outputs": [],
   "source": []
  },
  {
   "cell_type": "code",
   "execution_count": null,
   "metadata": {},
   "outputs": [],
   "source": []
  }
 ],
 "metadata": {
  "kernelspec": {
   "display_name": "Python 3",
   "language": "python",
   "name": "python3"
  },
  "language_info": {
   "codemirror_mode": {
    "name": "ipython",
    "version": 3
   },
   "file_extension": ".py",
   "mimetype": "text/x-python",
   "name": "python",
   "nbconvert_exporter": "python",
   "pygments_lexer": "ipython3",
   "version": "3.7.1"
  }
 },
 "nbformat": 4,
 "nbformat_minor": 2
}
